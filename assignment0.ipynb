{
  "nbformat": 4,
  "nbformat_minor": 0,
  "metadata": {
    "colab": {
      "name": "assignment0.ipynb",
      "provenance": [],
      "authorship_tag": "ABX9TyMt+AxN63bZ9ph0jQSQIVDr",
      "include_colab_link": true
    },
    "kernelspec": {
      "name": "python3",
      "display_name": "Python 3"
    },
    "language_info": {
      "name": "python"
    }
  },
  "cells": [
    {
      "cell_type": "markdown",
      "metadata": {
        "id": "view-in-github",
        "colab_type": "text"
      },
      "source": [
        "<a href=\"https://colab.research.google.com/github/Lirette/Assignment/blob/main/assignment0.ipynb\" target=\"_parent\"><img src=\"https://colab.research.google.com/assets/colab-badge.svg\" alt=\"Open In Colab\"/></a>"
      ]
    },
    {
      "cell_type": "code",
      "metadata": {
        "colab": {
          "base_uri": "https://localhost:8080/",
          "height": 63
        },
        "id": "sIxj1SkVLD_t",
        "outputId": "5093d2e2-8b45-455d-8a1f-2d6f53155962"
      },
      "source": [
        "%%HTML\n",
        "<figure>\n",
        "<img src='https://github.com/Lirette/Assignment/blob/main/covid19.png' style='width:50%'\n",
        "<figcaption align='center'>Python Logo</figcaption>\n",
        "</figure>"
      ],
      "execution_count": null,
      "outputs": [
        {
          "output_type": "display_data",
          "data": {
            "text/html": [
              "<figure>\n",
              "<img src='https://github.com/Lirette/Assignment/blob/main/covid19.png' style='width:50%'\n",
              "<figcaption align='center'>Python Logo</figcaption>\n",
              "</figure>"
            ],
            "text/plain": [
              "<IPython.core.display.HTML object>"
            ]
          },
          "metadata": {}
        }
      ]
    },
    {
      "cell_type": "markdown",
      "metadata": {
        "id": "GoZaNiwr9b1-"
      },
      "source": [
        "#*assignment 0:  Lirette Teiffouet*\n",
        "\n",
        "#**DESCRIPTION OF MY DATASET**\n",
        "dataset that i have chosen describe the covid 19 vaccinated people in switzerland by canton and type of vaccine.\n",
        "\n",
        "![covid](https://github.com/Lirette/Assignment/blob/main/covid.jpg)\n",
        "\n",
        "i have chosen it because due to the covid 19 situation that we are facing now, despite the huge number of death that many countries have already had as well as Switzerland people continue  to die.\n",
        "\n",
        "it is because they didn't get their covid 19 jab?\n",
        "to solve this problem switzerland government has exhorted inhabitants to take their vaccine.\n",
        "\n",
        "just to have a  global idea of the contain of data, here is some row of table"
      ]
    },
    {
      "cell_type": "code",
      "metadata": {
        "colab": {
          "base_uri": "https://localhost:8080/",
          "height": 486
        },
        "id": "l1RFqaP1DBmx",
        "outputId": "b8e1f778-4a9c-4ca5-cd4a-70a29ba61b81"
      },
      "source": [
        "# let's load a CSV file\n",
        "import pandas as pd\n",
        "data = pd.read_csv('https://www.covid19.admin.ch/api/data/20211007-fc2is34g/sources/COVID19VaccPersons_vaccine.csv') \n",
        "data.sample(5)"
      ],
      "execution_count": null,
      "outputs": [
        {
          "output_type": "execute_result",
          "data": {
            "text/html": [
              "<div>\n",
              "<style scoped>\n",
              "    .dataframe tbody tr th:only-of-type {\n",
              "        vertical-align: middle;\n",
              "    }\n",
              "\n",
              "    .dataframe tbody tr th {\n",
              "        vertical-align: top;\n",
              "    }\n",
              "\n",
              "    .dataframe thead th {\n",
              "        text-align: right;\n",
              "    }\n",
              "</style>\n",
              "<table border=\"1\" class=\"dataframe\">\n",
              "  <thead>\n",
              "    <tr style=\"text-align: right;\">\n",
              "      <th></th>\n",
              "      <th>date</th>\n",
              "      <th>geoRegion</th>\n",
              "      <th>vaccine</th>\n",
              "      <th>entries</th>\n",
              "      <th>type_variant</th>\n",
              "      <th>pop</th>\n",
              "      <th>sumTotal</th>\n",
              "      <th>per100Persons</th>\n",
              "      <th>per100Persons_mean7d</th>\n",
              "      <th>per100PersonsTotal</th>\n",
              "      <th>mean7d</th>\n",
              "      <th>type</th>\n",
              "      <th>version</th>\n",
              "      <th>granularity</th>\n",
              "    </tr>\n",
              "  </thead>\n",
              "  <tbody>\n",
              "    <tr>\n",
              "      <th>40292</th>\n",
              "      <td>2021-04-22</td>\n",
              "      <td>LU</td>\n",
              "      <td>moderna</td>\n",
              "      <td>1300</td>\n",
              "      <td>vaccine</td>\n",
              "      <td>413120.0</td>\n",
              "      <td>36194</td>\n",
              "      <td>0.31</td>\n",
              "      <td>0.21</td>\n",
              "      <td>8.76</td>\n",
              "      <td>876.14</td>\n",
              "      <td>COVID19AtLeastOneDosePersons</td>\n",
              "      <td>2021-10-07_07-50-08</td>\n",
              "      <td>detailed</td>\n",
              "    </tr>\n",
              "    <tr>\n",
              "      <th>36337</th>\n",
              "      <td>2021-07-22</td>\n",
              "      <td>GR</td>\n",
              "      <td>pfizer_biontech</td>\n",
              "      <td>1</td>\n",
              "      <td>vaccine</td>\n",
              "      <td>199021.0</td>\n",
              "      <td>34817</td>\n",
              "      <td>0.00</td>\n",
              "      <td>0.04</td>\n",
              "      <td>17.49</td>\n",
              "      <td>84.29</td>\n",
              "      <td>COVID19FullyVaccPersons</td>\n",
              "      <td>2021-10-07_07-50-08</td>\n",
              "      <td>detailed</td>\n",
              "    </tr>\n",
              "    <tr>\n",
              "      <th>49440</th>\n",
              "      <td>2021-01-12</td>\n",
              "      <td>NW</td>\n",
              "      <td>pfizer_biontech</td>\n",
              "      <td>343</td>\n",
              "      <td>vaccine</td>\n",
              "      <td>43087.0</td>\n",
              "      <td>897</td>\n",
              "      <td>0.80</td>\n",
              "      <td>0.42</td>\n",
              "      <td>2.08</td>\n",
              "      <td>179.43</td>\n",
              "      <td>COVID19PartiallyVaccPersons</td>\n",
              "      <td>2021-10-07_07-50-08</td>\n",
              "      <td>detailed</td>\n",
              "    </tr>\n",
              "    <tr>\n",
              "      <th>29008</th>\n",
              "      <td>2021-04-09</td>\n",
              "      <td>GE</td>\n",
              "      <td>johnson_johnson</td>\n",
              "      <td>0</td>\n",
              "      <td>vaccine</td>\n",
              "      <td>504128.0</td>\n",
              "      <td>0</td>\n",
              "      <td>0.00</td>\n",
              "      <td>0.00</td>\n",
              "      <td>0.00</td>\n",
              "      <td>0.00</td>\n",
              "      <td>COVID19AtLeastOneDosePersons</td>\n",
              "      <td>2021-10-07_07-50-08</td>\n",
              "      <td>detailed</td>\n",
              "    </tr>\n",
              "    <tr>\n",
              "      <th>35889</th>\n",
              "      <td>2021-02-13</td>\n",
              "      <td>GR</td>\n",
              "      <td>pfizer_biontech</td>\n",
              "      <td>0</td>\n",
              "      <td>vaccine</td>\n",
              "      <td>199021.0</td>\n",
              "      <td>5021</td>\n",
              "      <td>0.00</td>\n",
              "      <td>0.04</td>\n",
              "      <td>2.52</td>\n",
              "      <td>81.29</td>\n",
              "      <td>COVID19AtLeastOneDosePersons</td>\n",
              "      <td>2021-10-07_07-50-08</td>\n",
              "      <td>detailed</td>\n",
              "    </tr>\n",
              "  </tbody>\n",
              "</table>\n",
              "</div>"
            ],
            "text/plain": [
              "             date geoRegion  ...              version  granularity\n",
              "40292  2021-04-22        LU  ...  2021-10-07_07-50-08     detailed\n",
              "36337  2021-07-22        GR  ...  2021-10-07_07-50-08     detailed\n",
              "49440  2021-01-12        NW  ...  2021-10-07_07-50-08     detailed\n",
              "29008  2021-04-09        GE  ...  2021-10-07_07-50-08     detailed\n",
              "35889  2021-02-13        GR  ...  2021-10-07_07-50-08     detailed\n",
              "\n",
              "[5 rows x 14 columns]"
            ]
          },
          "metadata": {},
          "execution_count": 9
        }
      ]
    },
    {
      "cell_type": "markdown",
      "metadata": {
        "id": "RwSPswl_XwfY"
      },
      "source": [
        "i have found my dataset in this web site: https://opendata.swiss/en/\n",
        "\n",
        "if you are interested about this dataset you can download it here\n",
        "[download](\n",
        "https://www.covid19.admin.ch/api/data/20211007-fc2is34g/sources/COVID19VaccPersons_vaccine.csv)\n"
      ]
    },
    {
      "cell_type": "markdown",
      "metadata": {
        "id": "zuUtNl3_cYDY"
      },
      "source": [
        "##**dimentionality and cardinality**"
      ]
    },
    {
      "cell_type": "code",
      "metadata": {
        "colab": {
          "base_uri": "https://localhost:8080/"
        },
        "id": "-1qD1DPrarso",
        "outputId": "81860abb-fe4f-48a2-dbb4-5c043b0dc8bd"
      },
      "source": [
        "data.shape"
      ],
      "execution_count": null,
      "outputs": [
        {
          "output_type": "execute_result",
          "data": {
            "text/plain": [
              "(83521, 14)"
            ]
          },
          "metadata": {},
          "execution_count": 7
        }
      ]
    },
    {
      "cell_type": "markdown",
      "metadata": {
        "id": "h94VBx-Zc6EM"
      },
      "source": [
        "as you can see my dataset has a **cardinality** of *83521* and a **dimentionality** of *14*\n",
        "\n",
        "in the table below are some important attributs\n",
        "\n",
        "attribut number | attribut | signification\n",
        "--- | --- |---\n",
        "1 | date | date of vaccin\n",
        "2 | geoRegion | Swidzerland region\n",
        "3 | vaccin | type of administrated vaccin"
      ]
    },
    {
      "cell_type": "markdown",
      "metadata": {
        "id": "fTZj2Cd-ho-H"
      },
      "source": [
        "#TASK 2\n",
        "##which questions about the dataset?\n",
        "- it is possible to give the number of vaccinated people in each canton(region). it correspont to regression\n",
        "- it is possible to give the number of people in the whole in the whole Switzerland who took a categorie of vaccin. it correspont to **regression**\n",
        "- it is possible to categorize the vaccins depending on the number of dose which has been administrated. it correspont to **classification**\n",
        "- there are still a lot manipulations that can be done with the dataset..."
      ]
    },
    {
      "cell_type": "markdown",
      "metadata": {
        "id": "NUrAnxWThyZ5"
      },
      "source": [
        "#TASK 3"
      ]
    },
    {
      "cell_type": "code",
      "metadata": {
        "id": "c3gcmcT76avw",
        "colab": {
          "base_uri": "https://localhost:8080/",
          "height": 321
        },
        "outputId": "7dcd10e5-b89e-4310-fcfe-e0d902fa7498"
      },
      "source": [
        "from IPython.lib.display import YouTubeVideo\n",
        "YouTubeVideo('5qwHd1HCeMs')"
      ],
      "execution_count": null,
      "outputs": [
        {
          "output_type": "execute_result",
          "data": {
            "text/html": [
              "\n",
              "        <iframe\n",
              "            width=\"400\"\n",
              "            height=\"300\"\n",
              "            src=\"https://www.youtube.com/embed/5qwHd1HCeMs\"\n",
              "            frameborder=\"0\"\n",
              "            allowfullscreen\n",
              "        ></iframe>\n",
              "        "
            ],
            "text/plain": [
              "<IPython.lib.display.YouTubeVideo at 0x7f6989da7690>"
            ],
            "image/jpeg": "[encoded data removed]"
          },
          "metadata": {},
          "execution_count": 13
        }
      ]
    }
  ]
}