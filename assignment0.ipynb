{
  "nbformat": 4,
  "nbformat_minor": 0,
  "metadata": {
    "colab": {
      "name": "assignment0.ipynb",
      "provenance": []
    },
    "kernelspec": {
      "name": "python3",
      "display_name": "Python 3"
    },
    "language_info": {
      "name": "python"
    }
  },
  "cells": [
    {
      "cell_type": "markdown",
      "metadata": {
        "id": "K0Y3xE9Ajp1P"
      },
      "source": [
        "## description\n",
        "\n",
        "dataset that i have  found iss really interesting.\n",
        "it tooks about health which is what every one aspire.\n",
        "\n",
        "## reasons\n",
        "i have chosen it because nowadays, many people still death \n",
        "especially in poor country due to the lack of knowledge about simples way\n",
        "to take care of themselves.\n",
        "\n",
        "## dimension and cardinality\n",
        "the dimension of my dataset is 210 and its cardinality is 9\n",
        "\n",
        "\n"
      ]
    },
    {
      "cell_type": "markdown",
      "metadata": {
        "id": "KX8dzoRGpbXO"
      },
      "source": [
        "to download it you just need to click here below\n",
        "[download](https://www.bfs.admin.ch/bfsstatic/dam/assets/19184445/master)\n",
        "\n",
        "and to open the page click here\n",
        "[open](https://www.bfs.admin.ch/bfsstatic/dam/assets/19184445/master)"
      ]
    },
    {
      "cell_type": "markdown",
      "metadata": {
        "id": "GoZaNiwr9b1-"
      },
      "source": [
        "#assignment 0\n",
        "#Lirette Teiffouet\n",
        "\n",
        "#DESCRIPTION OF MY DATASET\n",
        "dataset that i have chosen describe the covid 19 vqccinated people in switzerland by canton and type of vaccine.\n",
        "\n",
        "i have chosen it because due to the covid 19 situation that we are facing now despite the huge number of death that many country have already had as well as Switzerland people continue  to die.\n",
        "it is because they didn't get their jab \n",
        "to solve this problem government has exhorte inhabitant to take their vaccine.\n",
        "\n",
        "just to have a  global idea of the contain of data, here is some row of table"
      ]
    },
    {
      "cell_type": "code",
      "metadata": {
        "id": "l1RFqaP1DBmx"
      },
      "source": [
        "# let's load a CSV file\n",
        "data = pd.read_csv('https://raw.githubusercontent.com/michalis0/DataMining_and_MachineLearning/master/week2/data/pandas_tutorial_read.csv') \n",
        "data.head()"
      ],
      "execution_count": null,
      "outputs": []
    }
  ]
}