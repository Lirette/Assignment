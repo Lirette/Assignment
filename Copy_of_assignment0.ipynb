{
  "nbformat": 4,
  "nbformat_minor": 0,
  "metadata": {
    "colab": {
      "name": "Copy of assignment0.ipynb",
      "provenance": [],
      "authorship_tag": "ABX9TyNpa4VZxOdsap3I3VB8duuh",
      "include_colab_link": true
    },
    "kernelspec": {
      "name": "python3",
      "display_name": "Python 3"
    },
    "language_info": {
      "name": "python"
    }
  },
  "cells": [
    {
      "cell_type": "markdown",
      "metadata": {
        "id": "view-in-github",
        "colab_type": "text"
      },
      "source": [
        "<a href=\"https://colab.research.google.com/github/Lirette/Assignment/blob/main/Copy_of_assignment0.ipynb\" target=\"_parent\"><img src=\"https://colab.research.google.com/assets/colab-badge.svg\" alt=\"Open In Colab\"/></a>"
      ]
    },
    {
      "cell_type": "markdown",
      "metadata": {
        "id": "JOGmckrBoxTs"
      },
      "source": [
        "#*assignment 0:  Lirette Teiffouet (20440095)*\n"
      ]
    },
    {
      "cell_type": "markdown",
      "metadata": {
        "id": "GoZaNiwr9b1-"
      },
      "source": [
        "\n",
        "![Python Logo](https://static.vecteezy.com/ti/vecteur-libre/p1/955095-carte-des-coronavirus-pays-touche-suisse-gratuit-vectoriel.jpg)\n"
      ]
    },
    {
      "cell_type": "markdown",
      "metadata": {
        "id": "6MRNd6EBo1aJ"
      },
      "source": [
        "#**TASK1: DESCRIPTION OF THE DATASET**\n",
        "Dataset that i have chosen describe the covid 19 vaccinated people in switzerland by canton and type of vaccine.\n",
        "\n",
        "I have chosen it because due to the covid 19 situation that we are facing now, despite the huge number of death that many countries have already had as well as Switzerland people continue  to die.\n",
        "\n",
        "Is it because they didn't get their covid 19 jab?\n",
        "to solve this problem switzerland government has exhorted inhabitants to take their vaccine.\n",
        "\n",
        "\n"
      ]
    },
    {
      "cell_type": "code",
      "metadata": {
        "colab": {
          "base_uri": "https://localhost:8080/",
          "height": 369
        },
        "id": "xpLLONhyq3Ps",
        "outputId": "8730e7e6-8133-45e6-a5b5-ecb45c3801fe"
      },
      "source": [
        "%%HTML\n",
        "<figure>\n",
        "<img src='https://cms.rhonefm.ch/sites/default/files/styles/small_16_9/public/2021-09/20210917161040547.jpg?itok=GV3xMmf3' style='width:50%'>\n",
        "<figcaption align='center'>health Minister</figcaption>\n",
        "</figure>"
      ],
      "execution_count": null,
      "outputs": [
        {
          "output_type": "display_data",
          "data": {
            "text/html": [
              "<figure>\n",
              "<img src='https://cms.rhonefm.ch/sites/default/files/styles/small_16_9/public/2021-09/20210917161040547.jpg?itok=GV3xMmf3' style='width:50%'>\n",
              "<figcaption align='center'>health Minister</figcaption>\n",
              "</figure>"
            ],
            "text/plain": [
              "<IPython.core.display.HTML object>"
            ]
          },
          "metadata": {}
        }
      ]
    },
    {
      "cell_type": "markdown",
      "metadata": {
        "id": "yI85MDfPrtSK"
      },
      "source": [
        "just to have a  global idea of the contain of the data, here are some rows "
      ]
    },
    {
      "cell_type": "code",
      "metadata": {
        "colab": {
          "base_uri": "https://localhost:8080/",
          "height": 486
        },
        "id": "l1RFqaP1DBmx",
        "outputId": "b8e1f778-4a9c-4ca5-cd4a-70a29ba61b81"
      },
      "source": [
        "# let's load a CSV file\n",
        "import pandas as pd\n",
        "data = pd.read_csv('https://www.covid19.admin.ch/api/data/20211007-fc2is34g/sources/COVID19VaccPersons_vaccine.csv') \n",
        "data.sample(5)"
      ],
      "execution_count": null,
      "outputs": [
        {
          "output_type": "execute_result",
          "data": {
            "text/html": [
              "<div>\n",
              "<style scoped>\n",
              "    .dataframe tbody tr th:only-of-type {\n",
              "        vertical-align: middle;\n",
              "    }\n",
              "\n",
              "    .dataframe tbody tr th {\n",
              "        vertical-align: top;\n",
              "    }\n",
              "\n",
              "    .dataframe thead th {\n",
              "        text-align: right;\n",
              "    }\n",
              "</style>\n",
              "<table border=\"1\" class=\"dataframe\">\n",
              "  <thead>\n",
              "    <tr style=\"text-align: right;\">\n",
              "      <th></th>\n",
              "      <th>date</th>\n",
              "      <th>geoRegion</th>\n",
              "      <th>vaccine</th>\n",
              "      <th>entries</th>\n",
              "      <th>type_variant</th>\n",
              "      <th>pop</th>\n",
              "      <th>sumTotal</th>\n",
              "      <th>per100Persons</th>\n",
              "      <th>per100Persons_mean7d</th>\n",
              "      <th>per100PersonsTotal</th>\n",
              "      <th>mean7d</th>\n",
              "      <th>type</th>\n",
              "      <th>version</th>\n",
              "      <th>granularity</th>\n",
              "    </tr>\n",
              "  </thead>\n",
              "  <tbody>\n",
              "    <tr>\n",
              "      <th>40292</th>\n",
              "      <td>2021-04-22</td>\n",
              "      <td>LU</td>\n",
              "      <td>moderna</td>\n",
              "      <td>1300</td>\n",
              "      <td>vaccine</td>\n",
              "      <td>413120.0</td>\n",
              "      <td>36194</td>\n",
              "      <td>0.31</td>\n",
              "      <td>0.21</td>\n",
              "      <td>8.76</td>\n",
              "      <td>876.14</td>\n",
              "      <td>COVID19AtLeastOneDosePersons</td>\n",
              "      <td>2021-10-07_07-50-08</td>\n",
              "      <td>detailed</td>\n",
              "    </tr>\n",
              "    <tr>\n",
              "      <th>36337</th>\n",
              "      <td>2021-07-22</td>\n",
              "      <td>GR</td>\n",
              "      <td>pfizer_biontech</td>\n",
              "      <td>1</td>\n",
              "      <td>vaccine</td>\n",
              "      <td>199021.0</td>\n",
              "      <td>34817</td>\n",
              "      <td>0.00</td>\n",
              "      <td>0.04</td>\n",
              "      <td>17.49</td>\n",
              "      <td>84.29</td>\n",
              "      <td>COVID19FullyVaccPersons</td>\n",
              "      <td>2021-10-07_07-50-08</td>\n",
              "      <td>detailed</td>\n",
              "    </tr>\n",
              "    <tr>\n",
              "      <th>49440</th>\n",
              "      <td>2021-01-12</td>\n",
              "      <td>NW</td>\n",
              "      <td>pfizer_biontech</td>\n",
              "      <td>343</td>\n",
              "      <td>vaccine</td>\n",
              "      <td>43087.0</td>\n",
              "      <td>897</td>\n",
              "      <td>0.80</td>\n",
              "      <td>0.42</td>\n",
              "      <td>2.08</td>\n",
              "      <td>179.43</td>\n",
              "      <td>COVID19PartiallyVaccPersons</td>\n",
              "      <td>2021-10-07_07-50-08</td>\n",
              "      <td>detailed</td>\n",
              "    </tr>\n",
              "    <tr>\n",
              "      <th>29008</th>\n",
              "      <td>2021-04-09</td>\n",
              "      <td>GE</td>\n",
              "      <td>johnson_johnson</td>\n",
              "      <td>0</td>\n",
              "      <td>vaccine</td>\n",
              "      <td>504128.0</td>\n",
              "      <td>0</td>\n",
              "      <td>0.00</td>\n",
              "      <td>0.00</td>\n",
              "      <td>0.00</td>\n",
              "      <td>0.00</td>\n",
              "      <td>COVID19AtLeastOneDosePersons</td>\n",
              "      <td>2021-10-07_07-50-08</td>\n",
              "      <td>detailed</td>\n",
              "    </tr>\n",
              "    <tr>\n",
              "      <th>35889</th>\n",
              "      <td>2021-02-13</td>\n",
              "      <td>GR</td>\n",
              "      <td>pfizer_biontech</td>\n",
              "      <td>0</td>\n",
              "      <td>vaccine</td>\n",
              "      <td>199021.0</td>\n",
              "      <td>5021</td>\n",
              "      <td>0.00</td>\n",
              "      <td>0.04</td>\n",
              "      <td>2.52</td>\n",
              "      <td>81.29</td>\n",
              "      <td>COVID19AtLeastOneDosePersons</td>\n",
              "      <td>2021-10-07_07-50-08</td>\n",
              "      <td>detailed</td>\n",
              "    </tr>\n",
              "  </tbody>\n",
              "</table>\n",
              "</div>"
            ],
            "text/plain": [
              "             date geoRegion  ...              version  granularity\n",
              "40292  2021-04-22        LU  ...  2021-10-07_07-50-08     detailed\n",
              "36337  2021-07-22        GR  ...  2021-10-07_07-50-08     detailed\n",
              "49440  2021-01-12        NW  ...  2021-10-07_07-50-08     detailed\n",
              "29008  2021-04-09        GE  ...  2021-10-07_07-50-08     detailed\n",
              "35889  2021-02-13        GR  ...  2021-10-07_07-50-08     detailed\n",
              "\n",
              "[5 rows x 14 columns]"
            ]
          },
          "metadata": {},
          "execution_count": 9
        }
      ]
    },
    {
      "cell_type": "markdown",
      "metadata": {
        "id": "RwSPswl_XwfY"
      },
      "source": [
        "###I have found the dataset in this web site: https://opendata.swiss/en/\n",
        "\n",
        "###If you are interested about this dataset you can download it here\n",
        "[download](\n",
        "https://www.covid19.admin.ch/api/data/20211007-fc2is34g/sources/COVID19VaccPersons_vaccine.csv)\n"
      ]
    },
    {
      "cell_type": "markdown",
      "metadata": {
        "id": "zuUtNl3_cYDY"
      },
      "source": [
        "##**dimentionality and cardinality**"
      ]
    },
    {
      "cell_type": "code",
      "metadata": {
        "colab": {
          "base_uri": "https://localhost:8080/"
        },
        "id": "-1qD1DPrarso",
        "outputId": "81860abb-fe4f-48a2-dbb4-5c043b0dc8bd"
      },
      "source": [
        "data.shape"
      ],
      "execution_count": null,
      "outputs": [
        {
          "output_type": "execute_result",
          "data": {
            "text/plain": [
              "(83521, 14)"
            ]
          },
          "metadata": {},
          "execution_count": 7
        }
      ]
    },
    {
      "cell_type": "markdown",
      "metadata": {
        "id": "h94VBx-Zc6EM"
      },
      "source": [
        "as you can see my dataset has a **cardinality** of *83521* and a **dimentionality** of *14*\n",
        "\n",
        "In the table below are some important attributs\n",
        "\n",
        "attribut number | attribut | signification\n",
        "--- | --- |---\n",
        "1 | date | date of vaccin\n",
        "2 | geoRegion | Swidzerland region\n",
        "3 | vaccin | type of administrated vaccin"
      ]
    },
    {
      "cell_type": "markdown",
      "metadata": {
        "id": "fTZj2Cd-ho-H"
      },
      "source": [
        "#TASK 2\n",
        "##which questions about the dataset?\n",
        "- what is the number of vaccinated people in each canton(region). it correspond to **regression** \n",
        "- what is the number of people in the whole Switzerland who took a categorie of vaccin. it correspond to **regression**\n",
        "- how someone can categorize the vaccins depending on the number of doses which has been administrated in the whole Switzerland or in each canton. it correspond to **classification**\n",
        "- there are still a lot manipulations that can be done with the dataset..."
      ]
    },
    {
      "cell_type": "markdown",
      "metadata": {
        "id": "NUrAnxWThyZ5"
      },
      "source": [
        "#TASK 3"
      ]
    },
    {
      "cell_type": "code",
      "metadata": {
        "id": "c3gcmcT76avw",
        "colab": {
          "base_uri": "https://localhost:8080/",
          "height": 321
        },
        "outputId": "c25f5585-99f4-4652-f4e1-7cea5caf06e4"
      },
      "source": [
        "from IPython.lib.display import YouTubeVideo\n",
        "YouTubeVideo('yRJB13Vm-CU')"
      ],
      "execution_count": null,
      "outputs": [
        {
          "output_type": "execute_result",
          "data": {
            "text/html": [
              "\n",
              "        <iframe\n",
              "            width=\"400\"\n",
              "            height=\"300\"\n",
              "            src=\"https://www.youtube.com/embed/yRJB13Vm-CU\"\n",
              "            frameborder=\"0\"\n",
              "            allowfullscreen\n",
              "        ></iframe>\n",
              "        "
            ],
            "text/plain": [
              "<IPython.lib.display.YouTubeVideo at 0x7fd88953bbd0>"
            ],
            "image/jpeg": "[encoded data removed]"
          },
          "metadata": {},
          "execution_count": 1
        }
      ]
    }
  ]
}